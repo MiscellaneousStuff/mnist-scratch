{
 "cells": [
  {
   "cell_type": "markdown",
   "metadata": {},
   "source": [
    "# MNIST Scratch\n",
    "\n",
    "MNIST: Completely from scratch, only using Torch primitives."
   ]
  },
  {
   "cell_type": "markdown",
   "metadata": {},
   "source": [
    "# Dataset"
   ]
  },
  {
   "cell_type": "code",
   "execution_count": 13,
   "metadata": {},
   "outputs": [],
   "source": [
    "import torch\n",
    "from torchvision import datasets, transforms\n",
    "from torchvision.utils import make_grid\n",
    "import matplotlib.pyplot as plt\n",
    "\n",
    "transform = transforms.Compose([\n",
    "    transforms.ToTensor(),\n",
    "    transforms.Normalize((0.5,), (0.5,))\n",
    "])\n",
    "\n",
    "trainset = datasets.MNIST(root='./data', train=True, download=True, transform=transform)\n",
    "testset = datasets.MNIST(root='./data', train=False, download=True, transform=transform)\n",
    "\n",
    "trainloader = torch.utils.data.DataLoader(trainset, batch_size=1, shuffle=True)\n",
    "testloader = torch.utils.data.DataLoader(testset, batch_size=1, shuffle=True)\n",
    "train_image_zero, train_target_zero = trainset[0]\n",
    "\n",
    "def show_batch(dl):\n",
    "    for images, labels in dl:\n",
    "        fig, ax = plt.subplots(figsize=(12, 12))\n",
    "        ax.set_xticks([]); ax.set_yticks([])\n",
    "        ax.imshow(make_grid(images[:1], nrow=8).permute(1, 2, 0))\n",
    "        break"
   ]
  },
  {
   "cell_type": "code",
   "execution_count": 14,
   "metadata": {},
   "outputs": [
    {
     "name": "stderr",
     "output_type": "stream",
     "text": [
      "Clipping input data to the valid range for imshow with RGB data ([0..1] for floats or [0..255] for integers).\n"
     ]
    },
    {
     "data": {
      "image/png": "[encoded data removed]",
      "text/plain": [
       "<Figure size 864x864 with 1 Axes>"
      ]
     },
     "metadata": {},
     "output_type": "display_data"
    }
   ],
   "source": [
    "show_batch(trainloader)"
   ]
  },
  {
   "cell_type": "markdown",
   "metadata": {},
   "source": [
    "# Model"
   ]
  },
  {
   "cell_type": "code",
   "execution_count": 197,
   "metadata": {},
   "outputs": [],
   "source": [
    "import numpy as np\n",
    "\n",
    "def cross_entropy(y_pred, y_true):\n",
    "    n_samples = y_pred.shape[0]\n",
    "    y_prob = softmax(y_pred)\n",
    "    y_correct_probs = y_prob[range(n_samples), y_true]\n",
    "    return -torch.mean(torch.log(y_correct_probs))\n",
    "    \n",
    "def delta_cross_entropy(y_pred, y_true):\n",
    "    y_pred_copy = y_pred.clone()\n",
    "    n_samples = y_pred_copy.shape[0]\n",
    "    y_pred_copy[range(n_samples), y_true] -= 1\n",
    "    return y_pred_copy / n_samples\n",
    "\n",
    "def relu(x):\n",
    "    return torch.where(x > 0, x, torch.zeros_like(x))\n",
    "\n",
    "def relu_prime(x):\n",
    "    return torch.where(x > 0, torch.ones_like(x), torch.zeros_like(x))\n",
    "\n",
    "def softmax(x):\n",
    "    exps = torch.exp(x - torch.max(x, axis=1, keepdims=True).values)\n",
    "    return exps / torch.sum(exps, axis=1, keepdims=True)\n",
    "\n",
    "class Linear(object):\n",
    "    def __init__(self, in_dim: int, out_dim: int, debug: bool=False):\n",
    "        self.debug = debug\n",
    "        self.w  = torch.randn(in_dim, out_dim) * torch.sqrt(torch.tensor(2. / (in_dim + out_dim)))\n",
    "        self.b  = torch.zeros(out_dim)\n",
    "        self.dw = None\n",
    "        self.db = None\n",
    "        self.input = None\n",
    "    def __call__(self, x: torch.tensor) -> torch.tensor:\n",
    "        return self.forward(x)\n",
    "    def forward(self, x: torch.tensor) -> torch.tensor:\n",
    "        self.input = x\n",
    "        return torch.mm(x, self.w) + self.b\n",
    "    def backward(self, d_out):\n",
    "        self.dw = torch.mm(self.input.T, d_out)\n",
    "        self.db = torch.sum(d_out, axis=0)\n",
    "        d_input = torch.mm(d_out, self.w.T)\n",
    "        return d_input\n",
    "    \n",
    "class MLP(object):\n",
    "    def __init__(self, debug: bool=False):\n",
    "        self.debug = debug\n",
    "        self.fc1 = Linear(784, 512, self.debug)\n",
    "        self.fc2 = Linear(512, 10, self.debug)\n",
    "    def __call__(self, x: torch.tensor) -> torch.tensor:\n",
    "        return self.forward(x)\n",
    "    def forward(self, x: torch.tensor) -> torch.tensor:\n",
    "        x = self.fc1(x)\n",
    "        x = relu(x)\n",
    "        x = self.fc2(x)\n",
    "        x = softmax(x)\n",
    "        return x\n",
    "    def backward(self, d_out):\n",
    "        d_out = self.fc2.backward(d_out)\n",
    "        d_out = d_out * relu_prime(self.fc1.forward(self.fc1.input))\n",
    "        d_out = self.fc1.backward(d_out)\n",
    "        return d_out"
   ]
  },
  {
   "cell_type": "markdown",
   "metadata": {},
   "source": [
    "# Forward Pass - Single"
   ]
  },
  {
   "cell_type": "code",
   "execution_count": 193,
   "metadata": {},
   "outputs": [
    {
     "name": "stdout",
     "output_type": "stream",
     "text": [
      "torch.Size([1, 784])\n"
     ]
    },
    {
     "ename": "TypeError",
     "evalue": "'MLP' object is not callable",
     "output_type": "error",
     "traceback": [
      "\u001b[1;31m---------------------------------------------------------------------------\u001b[0m",
      "\u001b[1;31mTypeError\u001b[0m                                 Traceback (most recent call last)",
      "\u001b[1;32m~\\AppData\\Local\\Temp/ipykernel_13820/1834242853.py\u001b[0m in \u001b[0;36m<module>\u001b[1;34m\u001b[0m\n\u001b[0;32m      5\u001b[0m     \u001b[0mimg\u001b[0m  \u001b[1;33m=\u001b[0m \u001b[0mrearrange\u001b[0m\u001b[1;33m(\u001b[0m\u001b[0mimg\u001b[0m\u001b[1;33m,\u001b[0m \u001b[1;34m\"b c w h -> (b c) (w h)\"\u001b[0m\u001b[1;33m)\u001b[0m\u001b[1;33m\u001b[0m\u001b[1;33m\u001b[0m\u001b[0m\n\u001b[0;32m      6\u001b[0m     \u001b[0mprint\u001b[0m\u001b[1;33m(\u001b[0m\u001b[0mimg\u001b[0m\u001b[1;33m.\u001b[0m\u001b[0mshape\u001b[0m\u001b[1;33m)\u001b[0m\u001b[1;33m\u001b[0m\u001b[1;33m\u001b[0m\u001b[0m\n\u001b[1;32m----> 7\u001b[1;33m     \u001b[0mpred\u001b[0m \u001b[1;33m=\u001b[0m \u001b[0mmodel\u001b[0m\u001b[1;33m(\u001b[0m\u001b[0mimg\u001b[0m\u001b[1;33m)\u001b[0m\u001b[1;33m\u001b[0m\u001b[1;33m\u001b[0m\u001b[0m\n\u001b[0m\u001b[0;32m      8\u001b[0m     \u001b[0mlbl_onehot\u001b[0m \u001b[1;33m=\u001b[0m \u001b[0mF\u001b[0m\u001b[1;33m.\u001b[0m\u001b[0mone_hot\u001b[0m\u001b[1;33m(\u001b[0m\u001b[0mlbl\u001b[0m\u001b[1;33m,\u001b[0m \u001b[0mnum_classes\u001b[0m\u001b[1;33m=\u001b[0m\u001b[1;36m10\u001b[0m\u001b[1;33m)\u001b[0m\u001b[1;33m\u001b[0m\u001b[1;33m\u001b[0m\u001b[0m\n\u001b[0;32m      9\u001b[0m     \u001b[0mprint\u001b[0m\u001b[1;33m(\u001b[0m\u001b[1;34m\"lbl_onehot:\"\u001b[0m\u001b[1;33m,\u001b[0m \u001b[0mlbl\u001b[0m\u001b[1;33m,\u001b[0m \u001b[0mlbl_onehot\u001b[0m\u001b[1;33m)\u001b[0m\u001b[1;33m\u001b[0m\u001b[1;33m\u001b[0m\u001b[0m\n",
      "\u001b[1;31mTypeError\u001b[0m: 'MLP' object is not callable"
     ]
    }
   ],
   "source": [
    "from einops import rearrange\n",
    "import torch.nn.functional as F\n",
    "\n",
    "for img, lbl in trainloader:\n",
    "    img  = rearrange(img, \"b c w h -> (b c) (w h)\")\n",
    "    print(img.shape)\n",
    "    pred = model(img)\n",
    "    lbl_onehot = F.one_hot(lbl, num_classes=10)\n",
    "    print(\"lbl_onehot:\", lbl, lbl_onehot)\n",
    "    break\n",
    "\n",
    "print(\"pred:\", pred)"
   ]
  },
  {
   "cell_type": "markdown",
   "metadata": {},
   "source": [
    "# Backpropagation - Multi (Set Epochs := 1, for Single)"
   ]
  },
  {
   "cell_type": "code",
   "execution_count": null,
   "metadata": {},
   "outputs": [],
   "source": [
    "model = MLP() #] debug=False)\n",
    "\n",
    "learning_rate = 1e-3\n",
    "\n",
    "losses = []\n",
    "losses_s = []\n",
    "\n",
    "for epoch in range(1):\n",
    "    for i, (img, lbl) in enumerate(trainloader):\n",
    "        with torch.no_grad():\n",
    "            if i % 1 == 0 and losses:\n",
    "                cur_loss = np.mean(np.array(losses))\n",
    "                print(f\"Epoch: {epoch} Item: {i} Loss: {cur_loss}\")\n",
    "                losses_s.append(cur_loss)\n",
    "\n",
    "            img  = rearrange(img, \"b c w h -> (b c) (w h)\")\n",
    "            # print(\"img.shape:\", img.shape)\n",
    "            # Forward, Loss\n",
    "            pred = model.forward(img)\n",
    "            loss = cross_entropy(pred, lbl)\n",
    "            losses.append(loss.item())\n",
    "\n",
    "            # Backward\n",
    "            # print(\"pred, lbl:\", pred, lbl)\n",
    "            d_loss = delta_cross_entropy(pred, lbl)\n",
    "            model.backward(d_loss) # calculate deltas\n",
    "\n",
    "            # Update weights\n",
    "            model.fc1.w -= learning_rate * model.fc1.dw\n",
    "            model.fc1.b -= learning_rate * model.fc1.db\n",
    "            model.fc2.w -= learning_rate * model.fc2.dw\n",
    "            model.fc2.b -= learning_rate * model.fc2.db"
   ]
  },
  {
   "cell_type": "markdown",
   "metadata": {},
   "source": [
    "# Plot Losses"
   ]
  },
  {
   "cell_type": "code",
   "execution_count": 221,
   "metadata": {},
   "outputs": [
    {
     "data": {
      "text/plain": [
       "[<matplotlib.lines.Line2D at 0x210d2e62910>]"
      ]
     },
     "execution_count": 221,
     "metadata": {},
     "output_type": "execute_result"
    },
    {
     "data": {
      "image/png": "[encoded data removed]",
      "text/plain": [
       "<Figure size 432x288 with 1 Axes>"
      ]
     },
     "metadata": {
      "needs_background": "light"
     },
     "output_type": "display_data"
    }
   ],
   "source": [
    "import matplotlib.pyplot as plt\n",
    "plt.plot(losses_s)"
   ]
  },
  {
   "cell_type": "markdown",
   "metadata": {},
   "source": [
    "# Test"
   ]
  },
  {
   "cell_type": "code",
   "execution_count": 222,
   "metadata": {},
   "outputs": [
    {
     "name": "stdout",
     "output_type": "stream",
     "text": [
      "Number Of Images Tested = 10000\n",
      "\n",
      "Model Accuracy = 0.827\n"
     ]
    }
   ],
   "source": [
    "correct_count, all_count = 0, 0\n",
    "for images,labels in testloader:\n",
    "  for i in range(len(labels)):\n",
    "    img = images[i].view(1, 784)\n",
    "    with torch.no_grad():\n",
    "        logps = model(img)\n",
    "\n",
    "    ps = torch.exp(logps)\n",
    "    probab = list(ps.numpy()[0])\n",
    "    pred_label = probab.index(max(probab))\n",
    "    true_label = labels.numpy()[i]\n",
    "    if(true_label == pred_label):\n",
    "      correct_count += 1\n",
    "    all_count += 1\n",
    "\n",
    "print(\"Number Of Images Tested =\", all_count)\n",
    "print(\"\\nModel Accuracy =\", (correct_count/all_count))"
   ]
  }
 ],
 "metadata": {
  "kernelspec": {
   "display_name": "Python 3",
   "language": "python",
   "name": "python3"
  },
  "language_info": {
   "codemirror_mode": {
    "name": "ipython",
    "version": 3
   },
   "file_extension": ".py",
   "mimetype": "text/x-python",
   "name": "python",
   "nbconvert_exporter": "python",
   "pygments_lexer": "ipython3",
   "version": "3.9.9"
  },
  "orig_nbformat": 4
 },
 "nbformat": 4,
 "nbformat_minor": 2
}
