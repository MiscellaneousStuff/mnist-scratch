{
 "cells": [
  {
   "cell_type": "markdown",
   "metadata": {},
   "source": [
    "# MNIST Scratch\n",
    "\n",
    "MNIST: Completely from scratch, only using NumPy."
   ]
  },
  {
   "cell_type": "markdown",
   "metadata": {},
   "source": [
    "# Dataset"
   ]
  },
  {
   "cell_type": "code",
   "execution_count": 13,
   "metadata": {},
   "outputs": [],
   "source": [
    "import torch\n",
    "from torchvision import datasets, transforms\n",
    "from torchvision.utils import make_grid\n",
    "import matplotlib.pyplot as plt\n",
    "\n",
    "transform = transforms.Compose([\n",
    "    transforms.ToTensor(),\n",
    "    transforms.Normalize((0.5,), (0.5,))\n",
    "])\n",
    "\n",
    "trainset = datasets.MNIST(root='./data', train=True, download=True, transform=transform)\n",
    "testset = datasets.MNIST(root='./data', train=False, download=True, transform=transform)\n",
    "\n",
    "trainloader = torch.utils.data.DataLoader(trainset, batch_size=1, shuffle=True)\n",
    "testloader = torch.utils.data.DataLoader(testset, batch_size=1, shuffle=True)\n",
    "train_image_zero, train_target_zero = trainset[0]\n",
    "\n",
    "def show_batch(dl):\n",
    "    for images, labels in dl:\n",
    "        fig, ax = plt.subplots(figsize=(12, 12))\n",
    "        ax.set_xticks([]); ax.set_yticks([])\n",
    "        ax.imshow(make_grid(images[:1], nrow=8).permute(1, 2, 0))\n",
    "        break"
   ]
  },
  {
   "cell_type": "code",
   "execution_count": 14,
   "metadata": {},
   "outputs": [
    {
     "name": "stderr",
     "output_type": "stream",
     "text": [
      "Clipping input data to the valid range for imshow with RGB data ([0..1] for floats or [0..255] for integers).\n"
     ]
    },
    {
     "data": {
      "image/png": "[encoded data removed]",
      "text/plain": [
       "<Figure size 864x864 with 1 Axes>"
      ]
     },
     "metadata": {},
     "output_type": "display_data"
    }
   ],
   "source": [
    "show_batch(trainloader)"
   ]
  },
  {
   "cell_type": "markdown",
   "metadata": {},
   "source": [
    "# Model"
   ]
  },
  {
   "cell_type": "code",
   "execution_count": 71,
   "metadata": {},
   "outputs": [],
   "source": [
    "import numpy as np\n",
    "\n",
    "def softmax(x):\n",
    "    e_x = torch.exp(x - torch.max(x)) # subtract max for numerical stability\n",
    "    return e_x / e_x.sum(axis=-1, keepdims=True)\n",
    "\n",
    "def relu(x):\n",
    "    print(\"relu x.shape:\", x.shape)\n",
    "    return torch.maximum(torch.tensor([0]), x)\n",
    "\n",
    "class Linear(object):\n",
    "    def __init__(self, in_dim, out_dim):\n",
    "        self.weight = torch.rand(in_dim, out_dim)\n",
    "        self.bias   = torch.rand(out_dim)\n",
    "    def __call__(self, x):\n",
    "        return self.forward(x)\n",
    "    def forward(self, x):\n",
    "        return x @ self.weight + self.bias\n",
    "    \n",
    "class MLP(object):\n",
    "    def __init__(self):\n",
    "        self.fc1 = Linear(784, 512)\n",
    "        self.fc2 = Linear(512, 10)\n",
    "    def __call__(self, x):\n",
    "        return self.forward(x)\n",
    "    def forward(self, x):\n",
    "        x = self.fc1(x)\n",
    "        print(\"x = self.fc1(x):\", x.shape)\n",
    "        x = relu(x)\n",
    "        print(\"x = relu(x):\", x.shape)\n",
    "        x = self.fc2(x)\n",
    "        print(\"x = self.fc2(x):\", x.shape)\n",
    "        x = softmax(x)\n",
    "        print(\"x = softmax(x):\", x.shape)\n",
    "        return x"
   ]
  },
  {
   "cell_type": "markdown",
   "metadata": {},
   "source": [
    "# Single Forward Pass"
   ]
  },
  {
   "cell_type": "code",
   "execution_count": 73,
   "metadata": {},
   "outputs": [
    {
     "name": "stdout",
     "output_type": "stream",
     "text": [
      "torch.Size([784])\n",
      "x = self.fc1(x): torch.Size([512])\n",
      "relu x.shape: torch.Size([512])\n",
      "x = relu(x): torch.Size([512])\n",
      "x = self.fc2(x): torch.Size([10])\n",
      "x = softmax(x): torch.Size([10])\n",
      "pred: tensor([0.0727, 0.0960, 0.1007, 0.0962, 0.1441, 0.1108, 0.0792, 0.1032, 0.0872,\n",
      "        0.1099])\n"
     ]
    }
   ],
   "source": [
    "from einops import rearrange\n",
    "\n",
    "model = MLP()\n",
    "\n",
    "for img, lbl in trainloader:\n",
    "    \n",
    "    img  = rearrange(img, \"b c w h -> (b c) (w h)\")\n",
    "    img  = img.squeeze()\n",
    "    print(img.shape)\n",
    "    pred = model(img)\n",
    "    break\n",
    "\n",
    "print(\"pred:\", pred)"
   ]
  },
  {
   "cell_type": "markdown",
   "metadata": {},
   "source": [
    "# Backpropagation"
   ]
  },
  {
   "cell_type": "markdown",
   "metadata": {},
   "source": []
  }
 ],
 "metadata": {
  "kernelspec": {
   "display_name": "Python 3",
   "language": "python",
   "name": "python3"
  },
  "language_info": {
   "codemirror_mode": {
    "name": "ipython",
    "version": 3
   },
   "file_extension": ".py",
   "mimetype": "text/x-python",
   "name": "python",
   "nbconvert_exporter": "python",
   "pygments_lexer": "ipython3",
   "version": "3.9.9"
  },
  "orig_nbformat": 4
 },
 "nbformat": 4,
 "nbformat_minor": 2
}
